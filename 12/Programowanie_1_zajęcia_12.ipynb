{
  "nbformat": 4,
  "nbformat_minor": 0,
  "metadata": {
    "colab": {
      "name": "Programowanie 1 - zajęcia 12",
      "provenance": []
    },
    "kernelspec": {
      "name": "python3",
      "display_name": "Python 3"
    },
    "language_info": {
      "name": "python"
    }
  },
  "cells": [
    {
      "cell_type": "code",
      "execution_count": null,
      "metadata": {
        "id": "OqYtns788T1t"
      },
      "outputs": [],
      "source": [
        "!pip install spacy -U\n",
        "!python -m spacy download pl_core_news_lg"
      ]
    },
    {
      "cell_type": "code",
      "source": [
        "import pandas as pd\n",
        "import numpy as np\n",
        "import spacy\n",
        "import os\n",
        "from tqdm import tqdm"
      ],
      "metadata": {
        "id": "ns7gWyJd-CSo"
      },
      "execution_count": null,
      "outputs": []
    },
    {
      "cell_type": "code",
      "source": [
        "nlp = spacy.load(\"pl_core_news_lg\")"
      ],
      "metadata": {
        "id": "xom-yr2V9-xB"
      },
      "execution_count": null,
      "outputs": []
    },
    {
      "cell_type": "code",
      "source": [
        "os.mkdir(\"test\")"
      ],
      "metadata": {
        "id": "0vvxrM0p-mLc"
      },
      "execution_count": null,
      "outputs": []
    },
    {
      "cell_type": "markdown",
      "source": [
        "String similiarity "
      ],
      "metadata": {
        "id": "pvNJJ5q8Ck7o"
      }
    },
    {
      "cell_type": "code",
      "source": [
        "!pip install Levenshtein"
      ],
      "metadata": {
        "id": "pYdiVqY2-mI0"
      },
      "execution_count": null,
      "outputs": []
    },
    {
      "cell_type": "code",
      "source": [
        "import Levenshtein"
      ],
      "metadata": {
        "id": "QzMb_KOq-mGh"
      },
      "execution_count": null,
      "outputs": []
    },
    {
      "cell_type": "code",
      "source": [
        "Levenshtein.ratio(\"Patryk Hubar\", \"Patryk Kowalski\")"
      ],
      "metadata": {
        "colab": {
          "base_uri": "https://localhost:8080/"
        },
        "id": "E5n-kX1c-mEh",
        "outputId": "b92fbad5-4bbc-48dc-f4dc-ce036a534f23"
      },
      "execution_count": null,
      "outputs": [
        {
          "output_type": "execute_result",
          "data": {
            "text/plain": [
              "0.5925925925925926"
            ]
          },
          "metadata": {},
          "execution_count": 17
        }
      ]
    },
    {
      "cell_type": "code",
      "source": [
        "x1 = \"W pierwszej połowie października 2007 ukazała się jej powieść Bieguni\"\n",
        "x2 = \"Tak jak to robią dzieci, zanim zasną. Posługują się przy tym językiem z pogranicza snu i jawy, opisują i zmyślają\""
      ],
      "metadata": {
        "id": "PsTlPDSOFFci"
      },
      "execution_count": null,
      "outputs": []
    },
    {
      "cell_type": "code",
      "source": [
        "Levenshtein.ratio(\"W pierwszej połowie października 2007 ukazała się jej powieść Bieguni\", \"Patryk Bubar\")"
      ],
      "metadata": {
        "colab": {
          "base_uri": "https://localhost:8080/"
        },
        "id": "-FL3SfciEyxw",
        "outputId": "ba3ca774-2a25-4c13-d31c-93ac1cf3386d"
      },
      "execution_count": null,
      "outputs": [
        {
          "output_type": "execute_result",
          "data": {
            "text/plain": [
              "0.9166666666666667"
            ]
          },
          "metadata": {},
          "execution_count": 18
        }
      ]
    },
    {
      "cell_type": "code",
      "source": [
        "Levenshtein.ratio(x1, x2)"
      ],
      "metadata": {
        "colab": {
          "base_uri": "https://localhost:8080/"
        },
        "id": "dn3ayuej-mCI",
        "outputId": "65168e5b-475c-4fcd-bd1f-077ba33f0d4a"
      },
      "execution_count": null,
      "outputs": [
        {
          "output_type": "execute_result",
          "data": {
            "text/plain": [
              "0.3516483516483517"
            ]
          },
          "metadata": {},
          "execution_count": 20
        }
      ]
    },
    {
      "cell_type": "code",
      "source": [
        "import difflib"
      ],
      "metadata": {
        "id": "d9YoKftf-l96"
      },
      "execution_count": null,
      "outputs": []
    },
    {
      "cell_type": "code",
      "source": [
        "str1 = \"Ala ma kota\"\n",
        "str2 = \"Ala ma psa\""
      ],
      "metadata": {
        "id": "jfp7RNJe-l75"
      },
      "execution_count": null,
      "outputs": []
    },
    {
      "cell_type": "code",
      "source": [
        "temp = difflib.SequenceMatcher(None, str1, str2)\n",
        "print(f\"Poziom podobieństwa zdań: {temp.ratio()}\")"
      ],
      "metadata": {
        "colab": {
          "base_uri": "https://localhost:8080/"
        },
        "id": "UGFBZ7R--l5p",
        "outputId": "1a5f6570-1882-4686-f93d-41dfac497d55"
      },
      "execution_count": null,
      "outputs": [
        {
          "output_type": "stream",
          "name": "stdout",
          "text": [
            "Poziom podobieństwa zdań: 0.7619047619047619\n"
          ]
        }
      ]
    },
    {
      "cell_type": "code",
      "source": [
        "temp.ratio()"
      ],
      "metadata": {
        "id": "phdWRyHT-l3p"
      },
      "execution_count": null,
      "outputs": []
    },
    {
      "cell_type": "code",
      "source": [
        "obiekt = \"Pies\"\n",
        "doc = nlp(obiekt)"
      ],
      "metadata": {
        "id": "SQVuxuDd-l1j"
      },
      "execution_count": null,
      "outputs": []
    },
    {
      "cell_type": "code",
      "source": [
        "doc.vector"
      ],
      "metadata": {
        "id": "ZBMBBlG9G6wA"
      },
      "execution_count": null,
      "outputs": []
    },
    {
      "cell_type": "code",
      "source": [
        "words = ['król','królik','cesarz','kier','lew','Maciuś','Sławomir', \"władca\", \"prezydent\"]\n",
        "\n",
        "for w in words:\n",
        "  print(f\"{w}: {nlp('król').similarity(nlp(w))}\")"
      ],
      "metadata": {
        "colab": {
          "base_uri": "https://localhost:8080/"
        },
        "id": "3avKmAMxHL7z",
        "outputId": "6689cd95-415c-4ef6-d2d3-d5d912444f4d"
      },
      "execution_count": null,
      "outputs": [
        {
          "output_type": "stream",
          "name": "stdout",
          "text": [
            "król: 1.0\n",
            "królik: 0.43101366196106444\n",
            "cesarz: 0.8124323174811295\n",
            "kier: 0.2279522639677826\n",
            "lew: 0.45455302337008985\n",
            "Maciuś: 0.28594346824850425\n",
            "Sławomir: -0.058835423586440436\n",
            "władca: 0.8410836078777957\n",
            "prezydent: 0.4157207982705265\n"
          ]
        }
      ]
    },
    {
      "cell_type": "code",
      "source": [
        "allWords = [\n",
        "  orth\n",
        "  for orth in nlp.vocab.vectors \n",
        "  if nlp.vocab[orth].has_vector \n",
        "  ]\n",
        "\n",
        "def find_similar_vectors(vec, topn=10, tabu=list(), only_lowercase=True):\n",
        "\n",
        "    def _cosine(v1, v2): return np.dot(v1, v2) / (np.linalg.norm(v1) * np.linalg.norm(v2))\n",
        "\n",
        "    results = [\n",
        "        w\n",
        "        for w in tqdm(allWords)\n",
        "        if nlp.vocab[w].text not in tabu\n",
        "        and nlp.vocab[w].is_lower == only_lowercase\n",
        "        and _cosine(nlp.vocab[w].vector, vec) > 0.5\n",
        "    ]\n",
        "    \n",
        "    results.sort(key=lambda w: _cosine(nlp.vocab[w].vector, vec), reverse=True)\n",
        "\n",
        "    for r in results[:topn]:\n",
        "        print(f'{nlp.vocab[r].text:>15}: {_cosine(nlp.vocab[r].vector, vec):.8f}')"
      ],
      "metadata": {
        "id": "1VPkSZCs9sMa"
      },
      "execution_count": null,
      "outputs": []
    },
    {
      "cell_type": "code",
      "source": [
        "v = nlp(\"Patryk\").vector\n",
        "find_similar_vectors(v)"
      ],
      "metadata": {
        "id": "reu16pDD-V9x"
      },
      "execution_count": null,
      "outputs": []
    },
    {
      "cell_type": "code",
      "source": [
        "from spacy import displacy"
      ],
      "metadata": {
        "id": "PbDynd6iIyoI"
      },
      "execution_count": null,
      "outputs": []
    },
    {
      "cell_type": "code",
      "source": [
        "tekst = \"Ala mieszka w Warszawie w Polsce i ma dwa koty\"\n",
        "doc = nlp(tekst)"
      ],
      "metadata": {
        "id": "mGcKvWWXI2k_"
      },
      "execution_count": null,
      "outputs": []
    },
    {
      "cell_type": "code",
      "source": [
        "for ent in doc.ents:\n",
        "  print(ent.text, ent.label_)"
      ],
      "metadata": {
        "colab": {
          "base_uri": "https://localhost:8080/"
        },
        "id": "gwK9rkJHI8e3",
        "outputId": "5f7a909d-7090-4b2a-88b1-59f73da6d8ca"
      },
      "execution_count": null,
      "outputs": [
        {
          "output_type": "stream",
          "name": "stdout",
          "text": [
            "Ala persName\n",
            "Warszawie placeName\n",
            "Polsce placeName\n"
          ]
        }
      ]
    },
    {
      "cell_type": "code",
      "source": [
        "displacy.render(doc, style = \"ent\", jupyter = True)"
      ],
      "metadata": {
        "colab": {
          "base_uri": "https://localhost:8080/",
          "height": 52
        },
        "id": "KqAUvKO0JIuo",
        "outputId": "d987bad8-db01-443a-95d0-5bead99d7e48"
      },
      "execution_count": null,
      "outputs": [
        {
          "output_type": "display_data",
          "data": {
            "text/html": [
              "<span class=\"tex2jax_ignore\"><div class=\"entities\" style=\"line-height: 2.5; direction: ltr\">\n",
              "<mark class=\"entity\" style=\"background: #ddd; padding: 0.45em 0.6em; margin: 0 0.25em; line-height: 1; border-radius: 0.35em;\">\n",
              "    Ala\n",
              "    <span style=\"font-size: 0.8em; font-weight: bold; line-height: 1; border-radius: 0.35em; vertical-align: middle; margin-left: 0.5rem\">persName</span>\n",
              "</mark>\n",
              " mieszka w \n",
              "<mark class=\"entity\" style=\"background: #ddd; padding: 0.45em 0.6em; margin: 0 0.25em; line-height: 1; border-radius: 0.35em;\">\n",
              "    Warszawie\n",
              "    <span style=\"font-size: 0.8em; font-weight: bold; line-height: 1; border-radius: 0.35em; vertical-align: middle; margin-left: 0.5rem\">placeName</span>\n",
              "</mark>\n",
              " w \n",
              "<mark class=\"entity\" style=\"background: #ddd; padding: 0.45em 0.6em; margin: 0 0.25em; line-height: 1; border-radius: 0.35em;\">\n",
              "    Polsce\n",
              "    <span style=\"font-size: 0.8em; font-weight: bold; line-height: 1; border-radius: 0.35em; vertical-align: middle; margin-left: 0.5rem\">placeName</span>\n",
              "</mark>\n",
              " i ma dwa koty</div></span>"
            ],
            "text/plain": [
              "<IPython.core.display.HTML object>"
            ]
          },
          "metadata": {}
        }
      ]
    }
  ]
}