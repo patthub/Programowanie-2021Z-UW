{
  "nbformat": 4,
  "nbformat_minor": 0,
  "metadata": {
    "colab": {
      "name": "Programowanie - zajęcia 10",
      "provenance": []
    },
    "kernelspec": {
      "name": "python3",
      "display_name": "Python 3"
    },
    "language_info": {
      "name": "python"
    }
  },
  "cells": [
    {
      "cell_type": "code",
      "source": [
        "# !pip install spacy -U\n",
        "# !python -m spacy download pl_core_news_sm\n",
        "\n",
        "#RESTART ŚRODOWISKA WYKONYWAWCZEGO!!!"
      ],
      "metadata": {
        "id": "pl6cNfWjl2Nv"
      },
      "execution_count": null,
      "outputs": []
    },
    {
      "cell_type": "code",
      "source": [
        "import re"
      ],
      "metadata": {
        "id": "SU7_qzIMjqD5"
      },
      "execution_count": 3,
      "outputs": []
    },
    {
      "cell_type": "code",
      "source": [
        "import regex as re"
      ],
      "metadata": {
        "id": "-Ec5qrtCskoX"
      },
      "execution_count": 6,
      "outputs": []
    },
    {
      "cell_type": "code",
      "execution_count": null,
      "metadata": {
        "id": "8JE_oIDujlAd"
      },
      "outputs": [],
      "source": [
        "#Regex cd"
      ]
    },
    {
      "cell_type": "code",
      "source": [
        "tekst = \"Miłosz, Czesław. Podolski, Łukasz\""
      ],
      "metadata": {
        "id": "lazmEWnPs1Sf"
      },
      "execution_count": 7,
      "outputs": []
    },
    {
      "cell_type": "code",
      "source": [
        "#Przedział [A-Z] w bibliotece regex to [[:upper:]]\n",
        "#Przedział [a-z] w bibliotece regex to [[:lower:]]"
      ],
      "metadata": {
        "id": "e7PlbDAotFFk"
      },
      "execution_count": null,
      "outputs": []
    },
    {
      "cell_type": "code",
      "source": [
        "re.findall(\"[[:upper:]][[:lower:]]+, [[:upper:]][[:lower:]]+\", tekst)"
      ],
      "metadata": {
        "colab": {
          "base_uri": "https://localhost:8080/"
        },
        "id": "8kWsjpkCsg9i",
        "outputId": "38cf2beb-cf30-4c8f-9d72-66093079b7ca"
      },
      "execution_count": 8,
      "outputs": [
        {
          "output_type": "execute_result",
          "data": {
            "text/plain": [
              "['Miłosz, Czesław', 'Podolski, Łukasz']"
            ]
          },
          "metadata": {},
          "execution_count": 8
        }
      ]
    },
    {
      "cell_type": "code",
      "source": [
        "!pip install spacy -U\n",
        "!python -m spacy download pl_core_news_sm\n",
        "\n",
        "#RESTART ŚRODOWISKA WYKONAWCZEGO"
      ],
      "metadata": {
        "id": "iVJn-HztuNpU"
      },
      "execution_count": null,
      "outputs": []
    },
    {
      "cell_type": "code",
      "source": [
        "import spacy"
      ],
      "metadata": {
        "id": "64uSEsymwgHQ"
      },
      "execution_count": 1,
      "outputs": []
    },
    {
      "cell_type": "code",
      "source": [
        "nlp = spacy.load(\"pl_core_news_sm\")"
      ],
      "metadata": {
        "id": "JMQpgOYQwocl"
      },
      "execution_count": 2,
      "outputs": []
    },
    {
      "cell_type": "code",
      "source": [
        "tekst = \"Jan Kowalski zarabia 1mln złotych pracując na Uniwersytecie Warszawskim, który jest w Warszawie. 12 stycznia\""
      ],
      "metadata": {
        "id": "4PNPczB7xA5O"
      },
      "execution_count": 35,
      "outputs": []
    },
    {
      "cell_type": "code",
      "source": [
        "doc = nlp(tekst)"
      ],
      "metadata": {
        "id": "n6YFbfU4xQed"
      },
      "execution_count": 36,
      "outputs": []
    },
    {
      "cell_type": "code",
      "source": [
        "for token in doc:\n",
        "  print(token.text, token.lemma_, token.pos_, token.tag_, token.shape_, token.is_stop)"
      ],
      "metadata": {
        "id": "IoK3Zsvey5NW"
      },
      "execution_count": null,
      "outputs": []
    },
    {
      "cell_type": "code",
      "source": [
        "for ent in doc.ents:\n",
        "  print(ent.text, ent.label_)"
      ],
      "metadata": {
        "colab": {
          "base_uri": "https://localhost:8080/"
        },
        "id": "1oygM0ez12cU",
        "outputId": "7e113fb7-e31a-436e-d610-7076d220d7a4"
      },
      "execution_count": 37,
      "outputs": [
        {
          "output_type": "stream",
          "name": "stdout",
          "text": [
            "Jan Kowalski persName\n",
            "Uniwersytecie Warszawskim orgName\n",
            "Warszawie placeName\n",
            "12 stycznia date\n"
          ]
        }
      ]
    },
    {
      "cell_type": "code",
      "source": [
        "olga_tokarczuk = \"\"\"Olga Nawoja Tokarczuk (ur. 29 stycznia 1962 w Sulechowie) – polska pisarka, eseistka, poetka i autorka scenariuszy, laureatka Nagrody Nobla w dziedzinie literatury za rok 2018, laureatka The Man Booker International Prize 2018 za powieść Bieguni (Flights) oraz dwukrotna laureatka Nagrody Literackiej „Nike” za powieści: Bieguni (2008) i Księgi Jakubowe (2015).\n",
        "\n",
        "Życiorys\n",
        "\n",
        "Córka nauczycieli – Wandy i Józefa Tokarczuków. Ma siostrę. Urodziła się w Sulechowie, a wychowała w Klenicy, skąd przeniosła się z rodzicami do Kietrza. Tam ukończyła Liceum Ogólnokształcące im. Cypriana Kamila Norwida. Jest absolwentką Wydziału Psychologii Uniwersytetu Warszawskiego. W czasie studiów, jako wolontariuszka opiekowała się osobami z problemami psychicznymi. Zainteresowała się również pracami Carla Junga, co wywarło wpływ na jej twórczość. Po studiach pracowała jako psychoterapeutka w poradni zdrowia psychicznego w Wałbrzychu.\n",
        "Z pierwszego małżeństwa, zawartego w 1985, z wydawcą Romanem Fingasem ma syna, Zbigniewa (ur. 1986). Jej obecnym mężem jest Grzegorz Zygadło. Jest wegetarianką. Mieszka we Wrocławiu i posiada dom w Krajanowie.\n",
        "\n",
        "\n",
        "Twórczość\n",
        "Zadebiutowała w 1979 na łamach pisma „Na przełaj”, gdzie pod pseudonimem „Natasza Borodin” opublikowała pierwsze opowiadania. Jako powieściopisarka zadebiutowała w 1993 wydaną wówczas Podróżą ludzi Księgi. Książka uzyskała nagrodę Polskiego Towarzystwa Wydawców Książek. Publikowała m.in. w „Mandragorze”. W latach 1997-2000 była stałą współpracowniczką czasopisma „Charaktery”, pisząc dlań eseje.\n",
        "W 1995 ukazała się jej druga powieść, E.E. Książka opowiada o dojrzewaniu dziewczynki, która nagle uzyskuje zdolności parapsychiczne. Dużym sukcesem Tokarczuk okazała się wydana w 1996 powieść Prawiek i inne czasy. Rok 1997 przyniósł zbiór opowiadań zatytułowany Szafa, a w 1998 pisarka opublikowała powieść pt. Dom dzienny, dom nocny. W 2004 ukazały się Ostatnie historie. Książka ta składa się z trzech oddzielnych opowieści o babce, matce i wnuczce, ukazanych w niezależnych od siebie czasie i przestrzeni.\n",
        "Jest twórczynią opowiadania Bardo. Szopka, zawierającego opis ruchomej szopki z klasztoru redemptorystów w Bardzie.\n",
        "W pierwszej połowie października 2007 ukazała się jej powieść Bieguni. Pracowała nad nią trzy lata. Wspomina, że większość notatek robiła w czasie podróży. „Ale nie jest to książka o podróży. Nie ma w niej opisów zabytków i miejsc. Nie jest to dziennik podróży ani reportaż. Chciałam raczej przyjrzeć się temu, co to znaczy podróżować, poruszać się, przemieszczać. Jaki to ma sens? Co nam to daje? Co to znaczy” – napisała we wstępie. Jak mówi, „pisanie powieści jest dla mnie przeniesionym w dojrzałość opowiadaniem sobie samemu bajek. Tak jak to robią dzieci, zanim zasną. Posługują się przy tym językiem z pogranicza snu i jawy, opisują i zmyślają”.\n",
        "W rankingu tygodnika Wprost, obejmującym najlepiej zarabiających pisarzy w Polsce w 2019, zajęła 3. miejsce.\n",
        "Od 2019 asystentką Olgi Tokarczuk jest ukraińska poetka Iryna Wikyrczak. Była członkinią Stowarzyszenia Pisarzy Polskich do sierpnia 2020 roku.\n",
        "\n",
        "\n",
        "Działalność\n",
        "Była współorganizatorką Festiwalu Opowiadania, podczas którego autorzy krótkich form literackich z Polski i zagranicy prezentują swoje utwory. Prowadziła warsztaty prozatorskie w Studium Literacko-Artystycznym na Uniwersytecie Jagiellońskim w Krakowie. W 2008 prowadziła zajęcia z twórczego pisarstwa na Uniwersytecie Opolskim. Współpracowała z Partią Zielonych i była członkinią redakcji „Krytyki Politycznej”.\n",
        "Od 2015 organizuje w Nowej Rudzie i okolicach Festiwal Góry Literatury przy współudziale Karola Maliszewskiego, Stowarzyszenia Kulturalnego „Góry Babel” oraz miasta i gminy Nowa Ruda. W programie festiwalu znajdują się: akcje edukacyjne, debaty, koncerty, panele, pokazy, spotkania, Noworudzkie Spotkania z Poezją, warsztaty (filmowe, kulinarne i literackie) oraz wystawy.\n",
        "2 grudnia 2019 we Wrocławiu zapowiedziała powołanie fundacji, z siedzibą w willi Tymoteusza Karpowicza przy ul. Krzyckiej 29, która za swoje cele obierze m.in. wspieranie i promocję polskiej kultury, w tym pisarzy i tłumaczy; działanie na rzecz praw człowieka, w tym przeciwdziałanie dyskryminacji i ograniczaniu swobód obywatelskich oraz ochronę środowiska, w tym walkę o prawa zwierząt. Pisarka na fundusz założycielski przekaże 350 tys. zł z nagrody Nobla. Fundacja ma być przestrzenią dla międzynarodowej rozmowy o możliwościach literatury w diagnozowaniu świata, w opisywaniu rzeczywistości, w której niebezpiecznie szybko narastają nastroje ksenofobiczne i nacjonalistyczne. Do jej rady powołani zostali Agnieszka Holland i Irek Grin, szef Wrocławskiego Domu Literatury.\n",
        "\n",
        "\n",
        "Poglądy, odbiór\n",
        "Jest feministką. Wspiera działania na rzecz ochrony środowiska, praw zwierząt, równouprawnienia i społeczeństwa obywatelskiego. Jest członkinią Rady Fundacji im. Stefana Batorego. Regularnie uczestniczy w paradach równości. Deklaruje, że nie należy do Kościoła katolickiego.\n",
        "W przemowie noblowskiej Wikipedię, którą podziwia i wspiera, porównała z koncepcją pansofii Jana Amosa Komenskiego, czyli omniscjencji – wiedzy pełnej.\n",
        "Jej działalność, poglądy oraz twórczość były kilkunastokrotnie obiektami krytyki ze strony niektórych mediów prawicowych i konserwatywnych, a także działaczy Prawa i Sprawiedliwości oraz Reduty Dobrego Imienia(ang.).\n",
        "\n",
        "\n",
        "Tłumacze\n",
        "Według Instytutu Książki do października 2019 ukazały się 193 tłumaczenia książek Olgi Tokarczuk. Następnych 12 pojawi się pod koniec 2019 i w 2020, m.in. w Bułgarii, Egipcie, Izraelu, Korei Południowej, Serbii i na Ukrainie. 90 tłumaczy przełożyło jej książki na 37 języków, w tym na najczęściej używane na świecie, m.in.: angielski, arabski, chiński, hindi, hiszpański, japoński, niemiecki, perski, portugalski i rosyjski.\n",
        "\n",
        "\n",
        "Adaptacje\n",
        "Prawiek i inne czasy (1997) – Teatr Wierszalin w Supraślu, reżyseria i adaptacja Sebastian Majewski.\n",
        "Bieguni (2021) – Teatr Powszechny w Warszawie, reżyseria Michał Zadara.\n",
        "\n",
        "\n",
        "Ekranizacje\n",
        "E.E. (1998, spektakl teatru telewizji na podstawie powieści pod tym samym tytułem; reż. Maria Zmarz-Koczanowicz, w roli Erny Eltzner wystąpiła Agata Buzek);\n",
        "Prawiek i inne czasy (1998, spektakl teatru telewizji na podstawie powieści pod tym samym tytułem; reż. Piotr Tomaszuk, w rolach głównych Joanna Kasperek i Jan Peszek);\n",
        "Numery (2000, spektakl teatru telewizji na podstawie opowiadania Numery z tomu Szafa; reż. Agnieszka Lipiec-Wróblewska, w roli Miss L. wystąpiła Ewa Dałkowska);\n",
        "Skarb (2000, spektakl teatru telewizji na motywach fragmentów powieści Dom dzienny, dom nocny; reż. Piotr Mularuk, w roli Krystyny Popłoch wystąpiła Maja Ostaszewska);\n",
        "Żurek (2003, film fabularny na podstawie opowiadania pod tym samym tytułem z tomu Gra na wielu bębenkach, reż. Ryszard Brylski);\n",
        "Miłości (2004, spektakl teatru telewizji na motywach opowiadań z tomu Gra na wielu bębenkach; reż. Filip Zylber);\n",
        "Aria Diva (2007, film fabularny krótkometrażowy na podstawie opowiadania Ariadna na Naksos z tomu Gra na wielu bębenkach, reż. Agnieszka Smoczyńska);\n",
        "Zniknięcie (2011, film fabularny krótkometrażowy na podstawie wątków powieści Bieguni, reż. Adam Uryniak);\n",
        "Glicynia (2016, krótkometrażowy), reż. Izabela Kiszczak\n",
        "Pokot (2017, film fabularny na podstawie powieści Prowadź swój pług przez kości umarłych, reż. Agnieszka Holland i Kasia Adamik).\n",
        "Noc w Mariandzie (Noc v Mariandu, 2019), reż. Matěj Chlupáček, Maja Hamplová, Martin Hradecký\n",
        "\n",
        "Nagrody\n",
        "\n",
        "1993 Nagroda Polskiego Towarzystwa Wydawców Książek za Podróż ludzi Księgi\n",
        "1996 Paszport „Polityki” – literatura\n",
        "1997 Nagroda Literacka „Nike” Czytelników za Prawiek i inne czasy\n",
        "1997 Nagroda Fundacji im. Kościelskich\n",
        "1999 Nagroda Literacka „Nike” Czytelników za Dom dzienny, dom nocny\n",
        "1999 Nagroda Literacka im. Władysława Reymonta\n",
        "2002 Nagroda Literacka „Nike” Czytelników za książkę Gra na wielu bębenkach\n",
        "2005.12.28 Honorowa Obywatelka Miasta i Gminy Bardo.\n",
        "2007 Nagroda miesięcznika Odra za powieść Bieguni i wcześniejsze dzieła\n",
        "2008 Nagroda Literacka „Nike” za powieść Bieguni\n",
        "2008.10.05 Nagroda Literacka „Nike” Czytelników za powieść Bieguni\n",
        "2008 Nagroda im. Samuela B. Lindego, polsko-niemiecka nagroda przyznawana przez władze partnerskich miast: Torunia i Getyngi\n",
        "2009 Honorowa obywatelka Nowej Rudy\n",
        "2010 nominowana do Nagrody Literackiej Nike za Prowadź swój pług przez kości umarłych\n",
        "2013 Nagroda Vilenica, międzynarodowa, przyznawana pisarzom z Europy Środkowej\n",
        "2014 Dolnośląska Nagroda Kulturalna „Silesia” Sejmiku Województwa Dolnośląskiego\n",
        "2015 Nagroda Literacka „Nike” za Księgi Jakubowe\n",
        "2015 Nagroda Literacka „Nike” Czytelników za Księgi Jakubowe\n",
        "2015.05.22 Uhonorowana płytą z brązu w Alei Pisarzy przy MBP im. Ł. Górnickiego, Galeria Książki w Oświęcimiu\n",
        "2015 Międzynarodowa Nagroda Mostu miast Görlitz i Zgorzelec\n",
        "2016 „Zasłużona dla Miasta Wałbrzycha”, wyróżnienie Rady Miejskiej Wałbrzycha.\n",
        "2017.01 Międzynarodowa Nagroda Literacka Samorządu Sztokholmu za Księgi Jakubowe\n",
        "2017.05.27 Gwiazda w Alei Gwiazd Literatury przy Miejskiej Bibliotece Publicznej w Mińsku Mazowieckim.\n",
        "2017.09.10 Nagroda IX Kongresu Kobiet, Poznań\n",
        "2018.04.21 Nagroda Polcul Foundation „za działalność społeczną w dziedzinie kultury na Dolnym Śląsku”\n",
        "2018.05.22 Nagroda The Man Booker International Prize 2018 za książkę Bieguni (Flights) Fitzcarraldo Editions, tł. Jennifer Croft\n",
        "2019.06.24 Honorowa obywatelka Wrocławia\n",
        "2019.07.08 Nagroda Laure-Bataillon dla najlepszej książki przełożonej na język francuski za Księgi Jakubowe\n",
        "2019.10.10 Nagroda Nobla w dziedzinie literatury za 2018, za wyobraźnię narracyjną, która z encyklopedyczną pasją reprezentuje przekraczanie granic jako formę życia\n",
        "2019.12.20 Uchwała Sejmu RP  z okazji otrzymania przez O. Tokarczuk Nagrody Nobla.\n",
        "2019.12.30 Uchwała Rady Miejskiej Nowej Rudy ustanawiająca rok 2020 Rokiem Olgi Tokarczuk w mieście Nowa Ruda.\n",
        "2020.01.14 Paszport „Polityki” – nagroda specjalna Kreator Kultury\n",
        "2020.06.18 Honorowy obywatel miasta stołecznego Warszawy\n",
        "2020.09.20 Nagroda „La storia in un romanzo 2020”\n",
        "2020.09.24 Honorowy Obywatel Dolnego Śląska „Civi Honorario” – tytuł nieprzyjęty.\n",
        "2020.12.16 Doktor honoris causa Uniwersytetu Warszawskiego\n",
        "\n",
        "\n",
        "Odznaczenia\n",
        "Srebrny Medal „Zasłużony Kulturze Gloria Artis” – 2010\n",
        "Odznaka Honorowa Złota „Zasłużony dla Województwa Dolnośląskiego” – 2018\n",
        "Odznaka Honorowa Powiatu Kłodzkiego – 2019\n",
        "Medal Senatu RP – 2019\n",
        "\"\"\"\n",
        "\n",
        "\n",
        "\n"
      ],
      "metadata": {
        "id": "TWCA-TYl3uFe"
      },
      "execution_count": 38,
      "outputs": []
    }
  ]
}