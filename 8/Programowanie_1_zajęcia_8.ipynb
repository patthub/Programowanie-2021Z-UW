{
  "nbformat": 4,
  "nbformat_minor": 0,
  "metadata": {
    "colab": {
      "name": "Programowanie 1 - zajęcia 8",
      "provenance": []
    },
    "kernelspec": {
      "name": "python3",
      "display_name": "Python 3"
    },
    "language_info": {
      "name": "python"
    }
  },
  "cells": [
    {
      "cell_type": "code",
      "metadata": {
        "colab": {
          "base_uri": "https://localhost:8080/"
        },
        "id": "_gq9zDSke6Kc",
        "outputId": "4952a11a-bbf6-4435-cb01-802bd992308b"
      },
      "source": [
        "import pandas as pd\n",
        "print(\"Done\")"
      ],
      "execution_count": null,
      "outputs": [
        {
          "output_type": "stream",
          "name": "stdout",
          "text": [
            "Done\n"
          ]
        }
      ]
    },
    {
      "cell_type": "code",
      "metadata": {
        "id": "_Z7YknudfJ5T"
      },
      "source": [
        "MAIN_DATA = pd.read_csv(\"/content/train(1).csv\")"
      ],
      "execution_count": null,
      "outputs": []
    },
    {
      "cell_type": "code",
      "metadata": {
        "id": "Q89eX_bOfNVS"
      },
      "source": [
        "df = MAIN_DATA.copy()"
      ],
      "execution_count": null,
      "outputs": []
    },
    {
      "cell_type": "code",
      "metadata": {
        "id": "K2pHYD9FhlzR"
      },
      "source": [
        "df_test = df[[\"Name\", \"Age\", \"Sex\"]].copy()"
      ],
      "execution_count": null,
      "outputs": []
    },
    {
      "cell_type": "code",
      "metadata": {
        "colab": {
          "base_uri": "https://localhost:8080/",
          "height": 424
        },
        "id": "nWgxvb83hsYB",
        "outputId": "1557d79c-bbeb-4ca6-e0a7-2191217070f5"
      },
      "source": [
        "df_test"
      ],
      "execution_count": null,
      "outputs": [
        {
          "output_type": "execute_result",
          "data": {
            "text/html": [
              "<div>\n",
              "<style scoped>\n",
              "    .dataframe tbody tr th:only-of-type {\n",
              "        vertical-align: middle;\n",
              "    }\n",
              "\n",
              "    .dataframe tbody tr th {\n",
              "        vertical-align: top;\n",
              "    }\n",
              "\n",
              "    .dataframe thead th {\n",
              "        text-align: right;\n",
              "    }\n",
              "</style>\n",
              "<table border=\"1\" class=\"dataframe\">\n",
              "  <thead>\n",
              "    <tr style=\"text-align: right;\">\n",
              "      <th></th>\n",
              "      <th>Name</th>\n",
              "      <th>Age</th>\n",
              "      <th>Sex</th>\n",
              "    </tr>\n",
              "  </thead>\n",
              "  <tbody>\n",
              "    <tr>\n",
              "      <th>0</th>\n",
              "      <td>Braund, Mr. Owen Harris</td>\n",
              "      <td>22.0</td>\n",
              "      <td>0</td>\n",
              "    </tr>\n",
              "    <tr>\n",
              "      <th>1</th>\n",
              "      <td>Cumings, Mrs. John Bradley (Florence Briggs Th...</td>\n",
              "      <td>38.0</td>\n",
              "      <td>1</td>\n",
              "    </tr>\n",
              "    <tr>\n",
              "      <th>2</th>\n",
              "      <td>Heikkinen, Miss. Laina</td>\n",
              "      <td>26.0</td>\n",
              "      <td>1</td>\n",
              "    </tr>\n",
              "    <tr>\n",
              "      <th>3</th>\n",
              "      <td>Futrelle, Mrs. Jacques Heath (Lily May Peel)</td>\n",
              "      <td>35.0</td>\n",
              "      <td>1</td>\n",
              "    </tr>\n",
              "    <tr>\n",
              "      <th>4</th>\n",
              "      <td>Allen, Mr. William Henry</td>\n",
              "      <td>35.0</td>\n",
              "      <td>0</td>\n",
              "    </tr>\n",
              "    <tr>\n",
              "      <th>...</th>\n",
              "      <td>...</td>\n",
              "      <td>...</td>\n",
              "      <td>...</td>\n",
              "    </tr>\n",
              "    <tr>\n",
              "      <th>886</th>\n",
              "      <td>Montvila, Rev. Juozas</td>\n",
              "      <td>27.0</td>\n",
              "      <td>0</td>\n",
              "    </tr>\n",
              "    <tr>\n",
              "      <th>887</th>\n",
              "      <td>Graham, Miss. Margaret Edith</td>\n",
              "      <td>19.0</td>\n",
              "      <td>1</td>\n",
              "    </tr>\n",
              "    <tr>\n",
              "      <th>888</th>\n",
              "      <td>Johnston, Miss. Catherine Helen \"Carrie\"</td>\n",
              "      <td>NaN</td>\n",
              "      <td>1</td>\n",
              "    </tr>\n",
              "    <tr>\n",
              "      <th>889</th>\n",
              "      <td>Behr, Mr. Karl Howell</td>\n",
              "      <td>26.0</td>\n",
              "      <td>0</td>\n",
              "    </tr>\n",
              "    <tr>\n",
              "      <th>890</th>\n",
              "      <td>Dooley, Mr. Patrick</td>\n",
              "      <td>32.0</td>\n",
              "      <td>0</td>\n",
              "    </tr>\n",
              "  </tbody>\n",
              "</table>\n",
              "<p>891 rows × 3 columns</p>\n",
              "</div>"
            ],
            "text/plain": [
              "                                                  Name   Age Sex\n",
              "0                              Braund, Mr. Owen Harris  22.0   0\n",
              "1    Cumings, Mrs. John Bradley (Florence Briggs Th...  38.0   1\n",
              "2                               Heikkinen, Miss. Laina  26.0   1\n",
              "3         Futrelle, Mrs. Jacques Heath (Lily May Peel)  35.0   1\n",
              "4                             Allen, Mr. William Henry  35.0   0\n",
              "..                                                 ...   ...  ..\n",
              "886                              Montvila, Rev. Juozas  27.0   0\n",
              "887                       Graham, Miss. Margaret Edith  19.0   1\n",
              "888           Johnston, Miss. Catherine Helen \"Carrie\"   NaN   1\n",
              "889                              Behr, Mr. Karl Howell  26.0   0\n",
              "890                                Dooley, Mr. Patrick  32.0   0\n",
              "\n",
              "[891 rows x 3 columns]"
            ]
          },
          "metadata": {},
          "execution_count": 15
        }
      ]
    },
    {
      "cell_type": "code",
      "metadata": {
        "id": "2YdGcVqMhuHs"
      },
      "source": [
        "#b II zamień male na 0 i female na 1 \n",
        "\n",
        "df_test[\"Sex\"] = [wiersz.replace([\"female\", \"male\"], [\"1\", \"0\"]) for wiersz in df_test[\"Sex\"]]"
      ],
      "execution_count": null,
      "outputs": []
    },
    {
      "cell_type": "code",
      "metadata": {
        "id": "Z2kz7qwSiM9G"
      },
      "source": [
        "df_test[\"Sex\"] = [wiersz.replace(\"male\",\"0\")for wiersz in df_test[\"Sex\"]]"
      ],
      "execution_count": null,
      "outputs": []
    },
    {
      "cell_type": "code",
      "metadata": {
        "id": "ufryTm9hiydZ"
      },
      "source": [
        "df_test[\"Sex\"].value_counts()"
      ],
      "execution_count": null,
      "outputs": []
    },
    {
      "cell_type": "code",
      "metadata": {
        "id": "pizMa65VjkxR"
      },
      "source": [
        "data_katastrofy = 1912\n",
        "df_test[\"Rok urodzenia\"] = [data_katastrofy - value for value in df_test[\"Age\"]]"
      ],
      "execution_count": null,
      "outputs": []
    },
    {
      "cell_type": "code",
      "metadata": {
        "id": "yx-VS1Nvj-jA"
      },
      "source": [
        "df_test"
      ],
      "execution_count": null,
      "outputs": []
    },
    {
      "cell_type": "markdown",
      "metadata": {
        "id": "EEGm3_jDkbD5"
      },
      "source": [
        "Funkcje"
      ]
    },
    {
      "cell_type": "code",
      "metadata": {
        "id": "qvjiby6ukkmZ"
      },
      "source": [
        "#funkcja\n",
        "funkcja(obiekt)\n",
        "#metoda\n",
        "obiekt.metoda()"
      ],
      "execution_count": null,
      "outputs": []
    },
    {
      "cell_type": "code",
      "metadata": {
        "id": "9c3D7oxplMZh"
      },
      "source": [
        "#drukarka\n",
        "\n",
        "def drukarka():\n",
        "  print(\"To jest strona testowa naszej drukarki\")\n"
      ],
      "execution_count": null,
      "outputs": []
    },
    {
      "cell_type": "code",
      "metadata": {
        "id": "nK3_t99hlqqR"
      },
      "source": [
        "drukarka()"
      ],
      "execution_count": null,
      "outputs": []
    },
    {
      "cell_type": "code",
      "metadata": {
        "id": "JLOWClscmAkg"
      },
      "source": [
        ""
      ],
      "execution_count": null,
      "outputs": []
    },
    {
      "cell_type": "code",
      "metadata": {
        "id": "015KWUhTl6IR"
      },
      "source": [
        "def dodawanie(liczba1, liczba2):\n",
        "  wynik = liczba1 + liczba2\n",
        "  return wynik"
      ],
      "execution_count": null,
      "outputs": []
    },
    {
      "cell_type": "code",
      "metadata": {
        "id": "oI_q7aKwmbZo"
      },
      "source": [
        "x = dodawanie(2, 5)"
      ],
      "execution_count": null,
      "outputs": []
    },
    {
      "cell_type": "code",
      "metadata": {
        "colab": {
          "base_uri": "https://localhost:8080/"
        },
        "id": "6zusQ-j9oGta",
        "outputId": "24fb02fb-4891-4225-84c0-a76154fcc20c"
      },
      "source": [
        "x"
      ],
      "execution_count": null,
      "outputs": [
        {
          "output_type": "execute_result",
          "data": {
            "text/plain": [
              "7"
            ]
          },
          "metadata": {},
          "execution_count": 42
        }
      ]
    },
    {
      "cell_type": "code",
      "metadata": {
        "id": "eRFArLVPoT5S"
      },
      "source": [
        "x = \"PaT%RYk JEST głUpi!     \"\n",
        "\n",
        "#Patryk jest głupi"
      ],
      "execution_count": null,
      "outputs": []
    },
    {
      "cell_type": "code",
      "metadata": {
        "id": "nYBGbM1CofZB"
      },
      "source": [
        "def clean_text(text):\n",
        "  new_text = text.lower().replace(\"%\", \"\").replace(\"!\", \"\").strip().capitalize()\n",
        "  return new_text"
      ],
      "execution_count": null,
      "outputs": []
    },
    {
      "cell_type": "code",
      "metadata": {
        "colab": {
          "base_uri": "https://localhost:8080/",
          "height": 36
        },
        "id": "FKEdvjeJphT4",
        "outputId": "c29eff5d-01ee-41ad-b431-f271207a9df6"
      },
      "source": [
        "x"
      ],
      "execution_count": null,
      "outputs": [
        {
          "output_type": "execute_result",
          "data": {
            "application/vnd.google.colaboratory.intrinsic+json": {
              "type": "string"
            },
            "text/plain": [
              "'PaT%RYk JEST głUpi!     '"
            ]
          },
          "metadata": {},
          "execution_count": 46
        }
      ]
    },
    {
      "cell_type": "code",
      "metadata": {
        "id": "_jmowgrtpicY"
      },
      "source": [
        "x2 = clean_text(x)"
      ],
      "execution_count": null,
      "outputs": []
    },
    {
      "cell_type": "code",
      "metadata": {
        "colab": {
          "base_uri": "https://localhost:8080/",
          "height": 36
        },
        "id": "O8tBvGY1pn5n",
        "outputId": "ea897f76-9a51-4b20-d459-42648f1a956e"
      },
      "source": [
        "x2"
      ],
      "execution_count": null,
      "outputs": [
        {
          "output_type": "execute_result",
          "data": {
            "application/vnd.google.colaboratory.intrinsic+json": {
              "type": "string"
            },
            "text/plain": [
              "'Patryk jest głupi'"
            ]
          },
          "metadata": {},
          "execution_count": 48
        }
      ]
    },
    {
      "cell_type": "code",
      "metadata": {
        "id": "VUcEplSrpzyw"
      },
      "source": [
        "x3 = \"Uni%WerSytet WarszAWSKI JEST głUpi!     \""
      ],
      "execution_count": null,
      "outputs": []
    },
    {
      "cell_type": "code",
      "metadata": {
        "id": "1Qd-1pgXp4v6"
      },
      "source": [
        "x4 = clean_text(x3)"
      ],
      "execution_count": null,
      "outputs": []
    },
    {
      "cell_type": "code",
      "metadata": {
        "id": "MNGie-T6p7aw"
      },
      "source": [
        "x4"
      ],
      "execution_count": null,
      "outputs": []
    },
    {
      "cell_type": "code",
      "metadata": {
        "id": "_sCraAufqHOo"
      },
      "source": [
        "df_testy = pd.DataFrame({\"Nazwisko, imię\" : [\"Hubar, Patryk\", \"Nowak, Adam\", \"Duda, Andrzej\"], \"Punkty\" : [15, 12, 1]})"
      ],
      "execution_count": null,
      "outputs": []
    },
    {
      "cell_type": "code",
      "metadata": {
        "colab": {
          "base_uri": "https://localhost:8080/",
          "height": 143
        },
        "id": "5Qbvof8zqjWH",
        "outputId": "62fc57fa-5a03-431f-ab73-9ba9e6a8b68f"
      },
      "source": [
        "df_testy"
      ],
      "execution_count": null,
      "outputs": [
        {
          "output_type": "execute_result",
          "data": {
            "text/html": [
              "<div>\n",
              "<style scoped>\n",
              "    .dataframe tbody tr th:only-of-type {\n",
              "        vertical-align: middle;\n",
              "    }\n",
              "\n",
              "    .dataframe tbody tr th {\n",
              "        vertical-align: top;\n",
              "    }\n",
              "\n",
              "    .dataframe thead th {\n",
              "        text-align: right;\n",
              "    }\n",
              "</style>\n",
              "<table border=\"1\" class=\"dataframe\">\n",
              "  <thead>\n",
              "    <tr style=\"text-align: right;\">\n",
              "      <th></th>\n",
              "      <th>Nazwisko, imię</th>\n",
              "      <th>Punkty</th>\n",
              "    </tr>\n",
              "  </thead>\n",
              "  <tbody>\n",
              "    <tr>\n",
              "      <th>0</th>\n",
              "      <td>Hubar, Patryk</td>\n",
              "      <td>15</td>\n",
              "    </tr>\n",
              "    <tr>\n",
              "      <th>1</th>\n",
              "      <td>Nowak, Adam</td>\n",
              "      <td>12</td>\n",
              "    </tr>\n",
              "    <tr>\n",
              "      <th>2</th>\n",
              "      <td>Duda, Andrzej</td>\n",
              "      <td>1</td>\n",
              "    </tr>\n",
              "  </tbody>\n",
              "</table>\n",
              "</div>"
            ],
            "text/plain": [
              "  Nazwisko, imię  Punkty\n",
              "0  Hubar, Patryk      15\n",
              "1    Nowak, Adam      12\n",
              "2  Duda, Andrzej       1"
            ]
          },
          "metadata": {},
          "execution_count": 55
        }
      ]
    },
    {
      "cell_type": "code",
      "metadata": {
        "id": "KVu4adCJq1pg"
      },
      "source": [
        "#jaka ocena - funkcja\n",
        "\n",
        "def jaka_ocena(punkty):\n",
        "  if punkty >= 15:\n",
        "    return \"Bardzo dobry\"\n",
        "  elif punkty < 15 and punkty >= 8:\n",
        "    return \"Dobry\"\n",
        "  else:\n",
        "    return \"Niedostateczny\""
      ],
      "execution_count": null,
      "outputs": []
    },
    {
      "cell_type": "code",
      "metadata": {
        "id": "247CvJTNrkKT"
      },
      "source": [
        "jaka_ocena(1)"
      ],
      "execution_count": null,
      "outputs": []
    },
    {
      "cell_type": "markdown",
      "metadata": {
        "id": "Y2u74WoTrv0H"
      },
      "source": [
        "Iterowanie po pandas part 2"
      ]
    },
    {
      "cell_type": "code",
      "metadata": {
        "id": "qpO9Kc7EsQUh"
      },
      "source": [
        "df_testy"
      ],
      "execution_count": null,
      "outputs": []
    },
    {
      "cell_type": "code",
      "metadata": {
        "id": "c53M3FMsrx5R"
      },
      "source": [
        "#List Comprehension\n",
        "# [value + 1 for value in df_testy[\"Ocena\"]]\n",
        "\n",
        "#Apply\n",
        "\n",
        "df_testy[\"Ocena\"] = df_testy[\"Punkty\"].apply(jaka_ocena)\n",
        "\n",
        "for value in df_testy:\n",
        "  jaka_ocena(value)\n",
        "\n",
        "\n",
        "#W ARGUMENCIE APPLY PODAJEMY TYLKO I WYŁACZNIE NAZWE FUNKCJI KTORA CHCEMY ZASTOSOWAC \n",
        "# np .apply(funkcja)\n",
        "#NIE PODAJEMY PO NAZWIE FUNKCJI NAWIASOW OKRAGLYCH\n",
        "#np .apply(funkcja()) - będzie błedne"
      ],
      "execution_count": null,
      "outputs": []
    }
  ]
}