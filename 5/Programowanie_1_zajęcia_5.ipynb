{
  "nbformat": 4,
  "nbformat_minor": 0,
  "metadata": {
    "colab": {
      "name": "Programowanie 1 - zajęcia 5",
      "provenance": []
    },
    "kernelspec": {
      "name": "python3",
      "display_name": "Python 3"
    },
    "language_info": {
      "name": "python"
    }
  },
  "cells": [
    {
      "cell_type": "code",
      "metadata": {
        "colab": {
          "base_uri": "https://localhost:8080/"
        },
        "id": "TXxPh6_JT3wS",
        "outputId": "bdeb42c4-f5bf-47a0-8f5b-74c562a22b0e"
      },
      "source": [
        "!python"
      ],
      "execution_count": null,
      "outputs": [
        {
          "output_type": "stream",
          "name": "stdout",
          "text": [
            "Python 3.7.12 (default, Sep 10 2021, 00:21:48) \n",
            "[GCC 7.5.0] on linux\n",
            "Type \"help\", \"copyright\", \"credits\" or \"license\" for more information.\n",
            ">>> exit()\n"
          ]
        }
      ]
    },
    {
      "cell_type": "markdown",
      "metadata": {
        "id": "fOliGpYeUCwJ"
      },
      "source": [
        "Powtórka - if...else...for loops"
      ]
    },
    {
      "cell_type": "code",
      "metadata": {
        "id": "TNbDvjMlUCfl"
      },
      "source": [
        "#1. Napisz program który sprawdzi, czy wprowadzone przez użytkownika dane typu String są takie same"
      ],
      "execution_count": null,
      "outputs": []
    },
    {
      "cell_type": "code",
      "metadata": {
        "id": "zk42pr2jXQo_"
      },
      "source": [
        "x1 = input(\"Wprowadź dane: \")\n",
        "x2 = input(\"Wprowadź dane: \")\n",
        "\n",
        "if x1 == x2:\n",
        "  print(\"Dane są takie same\")\n",
        "else:\n",
        "  print(\"Dane nie są takie same\")"
      ],
      "execution_count": null,
      "outputs": []
    },
    {
      "cell_type": "code",
      "metadata": {
        "id": "nh6i-oMeXtyG"
      },
      "source": [
        "#2. Przekonwertuj dane wpisane przez użytkownika na dane typu integer. \n",
        "#Następnie napisz program który sprawdzi, czy wprowadzone przez użytkownika dane są takie same"
      ],
      "execution_count": null,
      "outputs": []
    },
    {
      "cell_type": "code",
      "metadata": {
        "colab": {
          "base_uri": "https://localhost:8080/"
        },
        "id": "puasVSm9YUAO",
        "outputId": "e5f601f5-8877-4e64-debd-4a7db993084b"
      },
      "source": [
        "x1 = input(\"Wprowadź dane: \")\n",
        "x2 = input(\"Wprowadź dane: \")\n",
        "\n",
        "\n",
        "if x1.isdigit() and x2.isdigit():\n",
        "  x3 = int(x1)\n",
        "  x4 = int(x2)\n",
        "  if x3 == x4:\n",
        "    print(\"Dane są takie same\")\n",
        "  else:\n",
        "    print(\"Dane nie są takie same\")\n",
        "\n",
        "else:\n",
        "  print(\"Niepoprawne dane\")\n",
        "\n",
        "\n",
        "# if x3 == x4:\n",
        "#   print(\"Dane są takie same\")\n",
        "# else:\n",
        "#   print(\"Dane nie są takie same\")\n"
      ],
      "execution_count": null,
      "outputs": [
        {
          "output_type": "stream",
          "name": "stdout",
          "text": [
            "Wprowadź dane: a\n",
            "Wprowadź dane: a\n",
            "Niepoprawne dane\n"
          ]
        }
      ]
    },
    {
      "cell_type": "code",
      "metadata": {
        "id": "ROyvsH6BaQjf"
      },
      "source": [
        "#Zadanie 4 i 5 - sprawdź czy użytkownik podał liczbę (całkowitą) parzystą bądź nieparzystą\n",
        "\n",
        "x = input(\"Podaj liczbę \")\n",
        "\n",
        "if x.isdigit():\n",
        "  x_int = int(x)\n",
        "  if x_int % 2 == 1:\n",
        "    print(\"To jest liczba nieparzysta\")\n",
        "  else:\n",
        "    print(\"Liczba jest parzysta\")\n",
        "else:\n",
        "  print(\"Niepoprawne dane\")"
      ],
      "execution_count": null,
      "outputs": []
    },
    {
      "cell_type": "code",
      "metadata": {
        "id": "kVADa-uqbNaf"
      },
      "source": [
        "#6 Sprawdź, czy suma liczb, które wprowadził jest liczbą parzystą bądź nieparzystą\n",
        "\n",
        "\n",
        "liczba1 = input(\"Podaj licze 1:\")\n",
        "liczba2 = input(\"Podaj liczbe 2:\")\n",
        "\n",
        "if liczba1.isdigit() and liczba2.isdigit():\n",
        "  liczba1_int = int(liczba1) \n",
        "  liczba2_int = int(liczba2)\n",
        " \n",
        "  if liczba1_int + liczba2_int % 2 == 1:\n",
        "     print(\"Suma jest nieparzysta\")\n",
        "  else:\n",
        "     print(\"Suma jest parzysta\")\n",
        "else:\n",
        "     print(\"Niepoprawne dane\")\n",
        "\n",
        "\n",
        "print(suma)\n",
        "\n",
        "\n",
        "\n"
      ],
      "execution_count": null,
      "outputs": []
    },
    {
      "cell_type": "code",
      "metadata": {
        "id": "dKMlJTFagi6C"
      },
      "source": [
        "#8 Sprawdź, czy wpisana przez użytkownika litera jest samogłoską bądź spółgłoską\n",
        "\n",
        "litera = input(\"Podaj literę: \")\n",
        "lista = ['a', 'e', 'i', 'o']\n",
        "for i in lista:\n",
        "  if litera.isalpha():\n",
        "    if litera == i:\n",
        "      print(\"Litera jest samogłoską\")\n",
        "    else:\n",
        "      print(\"Litera jest spółgłoską\")\n",
        "  else:\n",
        "    print(\"Wprowadzone dane są niepoprawne\")"
      ],
      "execution_count": null,
      "outputs": []
    },
    {
      "cell_type": "code",
      "metadata": {
        "id": "FkalbLMkiJws"
      },
      "source": [
        "litera = input(\"Podaj literę: \")\n",
        "lista = ['a', 'e', 'i', 'o']\n",
        "if litera in lista:\n",
        "  print(\"Litera jest samogłoską\")"
      ],
      "execution_count": null,
      "outputs": []
    },
    {
      "cell_type": "markdown",
      "metadata": {
        "id": "T6_KRip_jlWU"
      },
      "source": [
        "Dwa rodzaje pętli:\n",
        "- petle for są tzw. pętlami określonymi \n",
        "- pętle while są tzw. pętlami nieokreślonymi"
      ]
    },
    {
      "cell_type": "code",
      "metadata": {
        "id": "-3rxO1jFi566"
      },
      "source": [
        "#DOPÓKI warunek jest bądź nie jest spełniony:\n",
        "  #to zrób coś\n",
        "\n",
        "licznik = 12\n",
        "\n",
        "while licznik > 0:\n",
        "  print(licznik)\n",
        "  licznik = licznik - 1"
      ],
      "execution_count": null,
      "outputs": []
    },
    {
      "cell_type": "markdown",
      "metadata": {
        "id": "U2HzvKnVlNts"
      },
      "source": [
        "Inkrementacja i dekrementacja"
      ]
    },
    {
      "cell_type": "code",
      "metadata": {
        "id": "iyML2PIklRBE"
      },
      "source": [
        "# inkremetnacja -  zwiększanie wartości naszego obiektu\n",
        "# dekremtacja - zmniejszanie"
      ],
      "execution_count": null,
      "outputs": []
    },
    {
      "cell_type": "code",
      "metadata": {
        "id": "UTKbB3AFmWvc"
      },
      "source": [
        "#inkrementacja licznik = licznik + 1 to jest to samo jakby napisali państwo licznik += 1\n",
        "#dekrementacja licznik = licznik - 1 to jest to samo licznik -=1"
      ],
      "execution_count": null,
      "outputs": []
    },
    {
      "cell_type": "code",
      "metadata": {
        "id": "uig-pE1Zm1V8"
      },
      "source": [
        "#BREAK i CONTINUE\n",
        "\n",
        "licznik = 0\n",
        "\n",
        "while licznik < 10:\n",
        "  print(licznik)\n",
        "  licznik += 1\n",
        "  if licznik == 9:\n",
        "    break"
      ],
      "execution_count": null,
      "outputs": []
    },
    {
      "cell_type": "code",
      "metadata": {
        "colab": {
          "base_uri": "https://localhost:8080/"
        },
        "id": "m6Vb4DCLoDzl",
        "outputId": "16afee03-d603-47df-bb08-f396a978fa79"
      },
      "source": [
        "licznik = 0\n",
        "\n",
        "while licznik < 10:\n",
        "  print(licznik)\n",
        "  licznik += 1\n",
        "  if licznik == 5:\n",
        "    print(\"tu jest 5\")\n",
        "    continue\n"
      ],
      "execution_count": null,
      "outputs": [
        {
          "output_type": "stream",
          "name": "stdout",
          "text": [
            "0\n",
            "1\n",
            "2\n",
            "3\n",
            "4\n",
            "tu jest 5\n",
            "5\n",
            "6\n",
            "7\n",
            "8\n",
            "9\n"
          ]
        }
      ]
    }
  ]
}