{
  "nbformat": 4,
  "nbformat_minor": 0,
  "metadata": {
    "colab": {
      "name": "Programowanie 1 - zajęcia 11",
      "provenance": []
    },
    "kernelspec": {
      "name": "python3",
      "display_name": "Python 3"
    },
    "language_info": {
      "name": "python"
    }
  },
  "cells": [
    {
      "cell_type": "code",
      "execution_count": null,
      "metadata": {
        "id": "XafTqmGzwUWT"
      },
      "outputs": [],
      "source": [
        "!pip install spacy -U\n",
        "!python -m spacy download pl_core_news_sm"
      ]
    },
    {
      "cell_type": "code",
      "source": [
        "!pip install rich"
      ],
      "metadata": {
        "id": "68K_4W_MxUOL"
      },
      "execution_count": null,
      "outputs": []
    },
    {
      "cell_type": "code",
      "source": [
        "import pandas as pd\n",
        "import numpy as np\n",
        "import regex as re\n",
        "import spacy\n",
        "nlp = spacy.load(\"pl_core_news_sm\")\n",
        "from rich import inspect\n",
        "\n",
        "print(\"Done\")"
      ],
      "metadata": {
        "id": "NMuinnH_w9aj"
      },
      "execution_count": null,
      "outputs": []
    },
    {
      "cell_type": "code",
      "source": [
        "tekst = \"Ala miała kota w roku 1923 w Warszawie\""
      ],
      "metadata": {
        "id": "Px-6xyLkzKSy"
      },
      "execution_count": null,
      "outputs": []
    },
    {
      "cell_type": "code",
      "source": [
        "doc = nlp(tekst)"
      ],
      "metadata": {
        "id": "LE01abl3zPbh"
      },
      "execution_count": null,
      "outputs": []
    },
    {
      "cell_type": "code",
      "source": [
        "licznik_rzecz = 0\n",
        "licznik_przym = 0\n",
        "\n",
        "for elem in doc:\n",
        "  if elem.pos_ == \"NOUN\":\n",
        "    licznik_rzecz += 1\n",
        "  elif elem.pos_ == \"ADJ\":\n",
        "    licznik_przym +=1\n",
        "  print(elem.text, elem.lemma_, elem.pos_)"
      ],
      "metadata": {
        "id": "wJJUU1r6zaVz"
      },
      "execution_count": null,
      "outputs": []
    },
    {
      "cell_type": "code",
      "source": [
        "print(licznik_rzecz, licznik_przym)"
      ],
      "metadata": {
        "colab": {
          "base_uri": "https://localhost:8080/"
        },
        "id": "Tl8dg8gm0KFS",
        "outputId": "4513d74e-321a-4b88-db3c-130e72f1d417"
      },
      "execution_count": null,
      "outputs": [
        {
          "output_type": "stream",
          "name": "stdout",
          "text": [
            "2 1\n"
          ]
        }
      ]
    },
    {
      "cell_type": "code",
      "source": [
        "licznik_os = 0\n",
        "\n",
        "for ent in doc.ents:\n",
        "  if ent.label_ == \"persName\":\n",
        "    licznik_os +=1 "
      ],
      "metadata": {
        "id": "JW9qI0Sz0RhJ"
      },
      "execution_count": null,
      "outputs": []
    },
    {
      "cell_type": "code",
      "source": [
        "licznik_os"
      ],
      "metadata": {
        "colab": {
          "base_uri": "https://localhost:8080/"
        },
        "id": "oF9-Z4Y70lJe",
        "outputId": "88bf556f-34f9-4843-8f40-1596429f993b"
      },
      "execution_count": null,
      "outputs": [
        {
          "output_type": "execute_result",
          "data": {
            "text/plain": [
              "1"
            ]
          },
          "metadata": {},
          "execution_count": 17
        }
      ]
    },
    {
      "cell_type": "markdown",
      "source": [
        "Pakiet RICH"
      ],
      "metadata": {
        "id": "GL5zlyMc01x8"
      }
    },
    {
      "cell_type": "code",
      "source": [
        "!pip install rich"
      ],
      "metadata": {
        "id": "QlTe73AG0rwZ"
      },
      "execution_count": null,
      "outputs": []
    },
    {
      "cell_type": "code",
      "source": [
        "from rich import inspect\n",
        "import pandas as pd"
      ],
      "metadata": {
        "id": "okrJxrXM1G1r"
      },
      "execution_count": null,
      "outputs": []
    },
    {
      "cell_type": "code",
      "source": [
        "inspect(pd.DataFrame, methods = True)"
      ],
      "metadata": {
        "id": "HbCQruiA1Q-6"
      },
      "execution_count": null,
      "outputs": []
    },
    {
      "cell_type": "markdown",
      "source": [
        "Wczytywanie plików"
      ],
      "metadata": {
        "id": "5DEG7nYf14Sy"
      }
    },
    {
      "cell_type": "code",
      "source": [
        "plik = open(\"/content/wilde-portret-doriana-graya.txt\", \"r\")"
      ],
      "metadata": {
        "id": "m5EkuZcZ166Z"
      },
      "execution_count": null,
      "outputs": []
    },
    {
      "cell_type": "code",
      "source": [
        "plik.readlines()"
      ],
      "metadata": {
        "id": "N66wRCzC3M7R"
      },
      "execution_count": null,
      "outputs": []
    },
    {
      "cell_type": "code",
      "source": [
        "with open(\"/content/wilde-portret-doriana-graya.txt\", \"r\") as f:\n",
        "  plik = f.read()"
      ],
      "metadata": {
        "id": "Hw7yQOds33Ee"
      },
      "execution_count": null,
      "outputs": []
    },
    {
      "cell_type": "code",
      "source": [
        "def open_file(path):\n",
        "  with open(path, \"r\") as f:\n",
        "    plik = f.read()\n",
        "    plik = plik.replace(\"\\n\", \" \")\n",
        "    return plik\n",
        "\n"
      ],
      "metadata": {
        "id": "a-gizccl4Mtx"
      },
      "execution_count": null,
      "outputs": []
    },
    {
      "cell_type": "code",
      "source": [
        "open_file(\"/content/wilde-portret-doriana-graya.txt\")"
      ],
      "metadata": {
        "id": "sgstw10N4pei"
      },
      "execution_count": null,
      "outputs": []
    },
    {
      "cell_type": "markdown",
      "source": [
        "SŁOWNIK - dictionary"
      ],
      "metadata": {
        "id": "GKgPaQIv5niw"
      }
    },
    {
      "cell_type": "code",
      "source": [
        "lista = [1, 2, 3, 4]"
      ],
      "metadata": {
        "id": "eL7I6WS75u-w"
      },
      "execution_count": null,
      "outputs": []
    },
    {
      "cell_type": "code",
      "source": [
        "#KLUCZ : WARTOŚĆ\n",
        "#KEY : VALUE\n",
        "\n",
        "pies = {\"imie\" : \"Serdel\", \"rasa\" : \"Husky\", \"ulubione_smaczki\" : [\"parówki\", \"jabłka\"], \"wiek\" : 5}"
      ],
      "metadata": {
        "id": "EQwUA3Ok5_HQ"
      },
      "execution_count": null,
      "outputs": []
    },
    {
      "cell_type": "code",
      "source": [
        "pies.get(\"nazwisko\", \"Brak klucza w bazie danych\")"
      ],
      "metadata": {
        "colab": {
          "base_uri": "https://localhost:8080/",
          "height": 36
        },
        "id": "tu1O9i1L6wBC",
        "outputId": "8ea9b39a-ebd3-42c9-c9c7-9b5e4b05fb20"
      },
      "execution_count": null,
      "outputs": [
        {
          "output_type": "execute_result",
          "data": {
            "application/vnd.google.colaboratory.intrinsic+json": {
              "type": "string"
            },
            "text/plain": [
              "'Kowalski'"
            ]
          },
          "metadata": {},
          "execution_count": 65
        }
      ]
    },
    {
      "cell_type": "code",
      "source": [
        "inspect(pies, methods = True)"
      ],
      "metadata": {
        "id": "ZZeIzA7N8R2L"
      },
      "execution_count": null,
      "outputs": []
    },
    {
      "cell_type": "code",
      "source": [
        "pies[\"nazwisko\"] = \"Kowalski\""
      ],
      "metadata": {
        "id": "kL3Bcn5f8e1o"
      },
      "execution_count": null,
      "outputs": []
    },
    {
      "cell_type": "code",
      "source": [
        "pies"
      ],
      "metadata": {
        "id": "dU38s4LA8pnY"
      },
      "execution_count": null,
      "outputs": []
    },
    {
      "cell_type": "code",
      "source": [
        "pies.items()"
      ],
      "metadata": {
        "id": "iSOpLjs49Awx"
      },
      "execution_count": null,
      "outputs": []
    },
    {
      "cell_type": "code",
      "source": [
        "for k, v in pies.items():\n",
        "  print(k, v)"
      ],
      "metadata": {
        "id": "bEHtsDkV8yHA"
      },
      "execution_count": null,
      "outputs": []
    },
    {
      "cell_type": "code",
      "source": [
        "def create_user():\n",
        "\n",
        "  user = {}\n",
        "\n",
        "  imie = input(\"Podaj imie: \")\n",
        "  nazwisko = input(\"Podaj nazwisko: \")\n",
        "  wiek = int(input(\"Podaj wiek: \"))\n",
        "\n",
        "  user[\"imie\"] = imie\n",
        "  user[\"nazwisko\"] = nazwisko\n",
        "  user[\"wiek\"] = wiek\n",
        "\n",
        "  return user\n",
        "\n"
      ],
      "metadata": {
        "id": "x9QF5wz_-TL5"
      },
      "execution_count": null,
      "outputs": []
    },
    {
      "cell_type": "code",
      "source": [
        "create_user()"
      ],
      "metadata": {
        "id": "y2q284jS-q4I"
      },
      "execution_count": null,
      "outputs": []
    },
    {
      "cell_type": "code",
      "source": [
        "user1 = create_user()"
      ],
      "metadata": {
        "id": "4kHV-QLu_PDg"
      },
      "execution_count": null,
      "outputs": []
    },
    {
      "cell_type": "code",
      "source": [
        "user2 = create_user()"
      ],
      "metadata": {
        "id": "l3rbnb_Q_SOL"
      },
      "execution_count": null,
      "outputs": []
    },
    {
      "cell_type": "code",
      "source": [
        "user2\n"
      ],
      "metadata": {
        "id": "rFzkBzYj_WVY"
      },
      "execution_count": null,
      "outputs": []
    }
  ]
}