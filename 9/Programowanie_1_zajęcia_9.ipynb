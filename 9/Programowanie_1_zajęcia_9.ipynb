{
  "nbformat": 4,
  "nbformat_minor": 0,
  "metadata": {
    "colab": {
      "name": "Programowanie 1 - zajęcia 9",
      "provenance": []
    },
    "kernelspec": {
      "name": "python3",
      "display_name": "Python 3"
    },
    "language_info": {
      "name": "python"
    }
  },
  "cells": [
    {
      "cell_type": "code",
      "metadata": {
        "colab": {
          "base_uri": "https://localhost:8080/"
        },
        "id": "csUDMOrHe1OX",
        "outputId": "de309dd0-0b7f-4943-ede6-c0e8f109f267"
      },
      "source": [
        "import pandas as pd\n",
        "import numpy as np\n",
        "from tqdm import tqdm\n",
        "print(\"Done\")"
      ],
      "execution_count": 42,
      "outputs": [
        {
          "output_type": "stream",
          "name": "stdout",
          "text": [
            "Done\n"
          ]
        }
      ]
    },
    {
      "cell_type": "code",
      "metadata": {
        "id": "aa1dcjvbjO6O"
      },
      "source": [
        "df = pd.read_csv(\"/content/train(2).csv\")"
      ],
      "execution_count": 27,
      "outputs": []
    },
    {
      "cell_type": "code",
      "metadata": {
        "id": "wlYtMEt_kdV0"
      },
      "source": [
        "df_test = df.copy()"
      ],
      "execution_count": 29,
      "outputs": []
    },
    {
      "cell_type": "code",
      "metadata": {
        "id": "1FDzu1wnklU6"
      },
      "source": [
        "def czy_pow_30(row):\n",
        "  if row <= 30:\n",
        "    return \"Poniżej 30 lat\"\n",
        "  else:\n",
        "    return \"Powyżej 30 lat\""
      ],
      "execution_count": 30,
      "outputs": []
    },
    {
      "cell_type": "code",
      "metadata": {
        "colab": {
          "base_uri": "https://localhost:8080/",
          "height": 36
        },
        "id": "85bj5Sj0k8TA",
        "outputId": "ed9115e9-2eb9-450d-c050-9f103f70dd46"
      },
      "source": [
        "czy_pow_30(45)"
      ],
      "execution_count": 32,
      "outputs": [
        {
          "output_type": "execute_result",
          "data": {
            "application/vnd.google.colaboratory.intrinsic+json": {
              "type": "string"
            },
            "text/plain": [
              "'Powyżej 30 lat'"
            ]
          },
          "metadata": {},
          "execution_count": 32
        }
      ]
    },
    {
      "cell_type": "code",
      "metadata": {
        "id": "n3HCDKwDlDXa"
      },
      "source": [
        "df_test[\"Czy powyżej 30 lat\"] = df[\"Age\"].apply(czy_pow_30)"
      ],
      "execution_count": 33,
      "outputs": []
    },
    {
      "cell_type": "code",
      "metadata": {
        "id": "E1-qmQZslNVC"
      },
      "source": [
        "df_test"
      ],
      "execution_count": null,
      "outputs": []
    },
    {
      "cell_type": "code",
      "metadata": {
        "id": "8O53nSIElXy8"
      },
      "source": [
        "#czyPierwsza\n",
        "def czy_pierwsza(liczba):\n",
        "  licznik = 0\n",
        "  for i in tqdm(range(1, liczba)):\n",
        "    if liczba % i == 0:\n",
        "      licznik += 1\n",
        "  if licznik > 2:\n",
        "    print(\"To nie jest liczba pierwsza\")\n",
        "  else:\n",
        "    print(\"To jest liczba pierwsza\")\n",
        "  licznik = 0\n",
        "\n"
      ],
      "execution_count": 43,
      "outputs": []
    },
    {
      "cell_type": "markdown",
      "metadata": {
        "id": "2ynl_N9MnUx4"
      },
      "source": [
        "Pattern matching"
      ]
    },
    {
      "cell_type": "code",
      "metadata": {
        "id": "InP5wFFTngGa"
      },
      "source": [
        "#Wyrażenia regularne (regex)\n",
        "# jest to metajęzyk (język znaków specjalnych) który służy do tworzenia wzorców \n",
        "# tekstowych. Regexy mają swoją gramatykę, swoje znaki, swoje znaczenie."
      ],
      "execution_count": null,
      "outputs": []
    },
    {
      "cell_type": "code",
      "metadata": {
        "id": "PJYhNzOvofNK"
      },
      "source": [
        "import re"
      ],
      "execution_count": 45,
      "outputs": []
    },
    {
      "cell_type": "code",
      "metadata": {
        "id": "nmmau8w2oweM"
      },
      "source": [
        "tekst = \"Ala ma kota, a Patryk ma 3 koty\""
      ],
      "execution_count": 52,
      "outputs": []
    },
    {
      "cell_type": "code",
      "metadata": {
        "colab": {
          "base_uri": "https://localhost:8080/"
        },
        "id": "ryTN8erDo2Ze",
        "outputId": "812efa3a-79a0-4c30-d291-3df58c635151"
      },
      "source": [
        "re.findall(\"Ala\", tekst)"
      ],
      "execution_count": 53,
      "outputs": [
        {
          "output_type": "execute_result",
          "data": {
            "text/plain": [
              "['Ala']"
            ]
          },
          "metadata": {},
          "execution_count": 53
        }
      ]
    },
    {
      "cell_type": "code",
      "metadata": {
        "id": "MQbX2HJNz320"
      },
      "source": [
        "tekst = \"Nazywam się Patryk Hubar. Mój adres mailowy to p.hubar@uw.edu.pl. Moja data urodzenia to 07.06.1993.\""
      ],
      "execution_count": 54,
      "outputs": []
    },
    {
      "cell_type": "code",
      "metadata": {
        "id": "3a-8qKF_0I2r"
      },
      "source": [
        "tekst2 = \"Nazywam się Jan Kowalski. Mój adres mailowy to j.kowalski@gmail.com. Moja data urodzenia to 21.12.1953.\""
      ],
      "execution_count": 57,
      "outputs": []
    },
    {
      "cell_type": "code",
      "metadata": {
        "id": "RbHHwDp-7HaI"
      },
      "source": [
        "#WYKORZYSTANE REGEXY:\n",
        "# https://regex101.com/r/HHVjrw/1/\n",
        "# https://regex101.com/r/bxXaXF/1/"
      ],
      "execution_count": null,
      "outputs": []
    },
    {
      "cell_type": "code",
      "metadata": {
        "id": "TqPxGpwOz7XD"
      },
      "source": [
        "x = re.findall(\"[A-Z][a-z]+\\s[A-Z][a-z]+\", tekst)"
      ],
      "execution_count": 55,
      "outputs": []
    },
    {
      "cell_type": "code",
      "metadata": {
        "colab": {
          "base_uri": "https://localhost:8080/"
        },
        "id": "CHSuWfwM0BrE",
        "outputId": "07d8904f-f32b-4bbe-ca04-e87d6383844a"
      },
      "source": [
        "x"
      ],
      "execution_count": 56,
      "outputs": [
        {
          "output_type": "execute_result",
          "data": {
            "text/plain": [
              "['Patryk Hubar']"
            ]
          },
          "metadata": {},
          "execution_count": 56
        }
      ]
    },
    {
      "cell_type": "code",
      "metadata": {
        "id": "kxSa-Q380M4E"
      },
      "source": [
        "x2 = re.findall(\"[A-Z][a-z]+\\s[A-Z][a-z]+\", tekst2)"
      ],
      "execution_count": 60,
      "outputs": []
    },
    {
      "cell_type": "code",
      "metadata": {
        "colab": {
          "base_uri": "https://localhost:8080/"
        },
        "id": "uLr2hC110QeL",
        "outputId": "07574d99-379c-43c8-ffa7-db4e536c9bf1"
      },
      "source": [
        "x2"
      ],
      "execution_count": 61,
      "outputs": [
        {
          "output_type": "execute_result",
          "data": {
            "text/plain": [
              "['Jan Kowalski']"
            ]
          },
          "metadata": {},
          "execution_count": 61
        }
      ]
    }
  ]
}